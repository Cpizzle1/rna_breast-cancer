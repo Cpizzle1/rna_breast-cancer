{
 "cells": [
  {
   "cell_type": "code",
   "execution_count": 1,
   "id": "305a2603-95f5-49fb-91a7-f793f8aa8f29",
   "metadata": {},
   "outputs": [],
   "source": [
    "from sklearn.ensemble import RandomForestClassifier,GradientBoostingClassifier,GradientBoostingRegressor,AdaBoostClassifier,RandomForestRegressor\n",
    "from sklearn.model_selection import train_test_split, cross_val_score,GridSearchCV,RandomizedSearchCV\n",
    "from sklearn.metrics import mean_squared_error, r2_score, make_scorer, roc_auc_score, roc_curve, auc,accuracy_score, precision_score, recall_score\n",
    "import matplotlib.pyplot as plt\n",
    "plt.style.use('ggplot')\n",
    "import numpy as np\n",
    "import pandas as pd \n",
    "\n",
    "%matplotlib inline\n",
    "from sklearn.decomposition import PCA\n",
    "from sklearn.linear_model import LogisticRegression,LogisticRegressionCV,SGDClassifier, Lasso\n",
    "from sklearn.model_selection import RandomizedSearchCV,GridSearchCV\n",
    "\n",
    "from sklearn.model_selection import KFold, train_test_split\n",
    "from sklearn.metrics import r2_score, median_absolute_error, mean_absolute_error, accuracy_score, f1_score,accuracy_score\n",
    "\n",
    "\n",
    "from sklearn.model_selection import train_test_split, cross_val_score\n",
    "\n",
    "from sklearn.svm import SVC\n",
    "\n",
    "from sklearn import svm\n",
    "import pickle\n",
    "\n",
    "from sklearn.tree import DecisionTreeClassifier,DecisionTreeRegressor\n",
    "from sklearn.utils import shuffle\n",
    "from sklearn.metrics import classification_report, confusion_matrix\n",
    "from sklearn.decomposition import PCA\n",
    "from mpl_toolkits.mplot3d import Axes3D"
   ]
  },
  {
   "cell_type": "markdown",
   "id": "7d0cced8-cbaf-4d92-9c3d-6adbc19358d9",
   "metadata": {},
   "source": [
    "# Problem Description:\n",
    "\n",
    "dataset is data from breast cancer patients with RNA data and clinical data\n",
    "\n",
    "\n",
    "problem description: Use rna data to predict if patients die from breast cancer"
   ]
  },
  {
   "cell_type": "code",
   "execution_count": 2,
   "id": "59765af2-c5e0-4c4a-bf46-01e64cee6cb5",
   "metadata": {},
   "outputs": [
    {
     "name": "stderr",
     "output_type": "stream",
     "text": [
      "/var/folders/3k/vhmk7kx14ybb600l38fbqg780000gn/T/ipykernel_25223/962686654.py:1: DtypeWarning: Columns (678,688,690,692) have mixed types. Specify dtype option on import or set low_memory=False.\n",
      "  df = pd.read_csv('../data/METABRIC_RNA_Mutation.csv')\n"
     ]
    }
   ],
   "source": [
    "df = pd.read_csv('../data/METABRIC_RNA_Mutation.csv')\n",
    "mrna_df =pd.read_csv('../data/capstone2.mrn_df2.csv')"
   ]
  },
  {
   "cell_type": "markdown",
   "id": "315346ef-2722-4504-b5e5-4dfae43eab39",
   "metadata": {},
   "source": [
    "# EDA\n",
    "\n",
    "1) explore column values and clean data\n",
    "2) create death from cancer column\n",
    "3) use that column as target"
   ]
  },
  {
   "cell_type": "code",
   "execution_count": 19,
   "id": "61fe7ae1-fd16-4e1b-a205-6c8162c744a1",
   "metadata": {},
   "outputs": [
    {
     "data": {
      "text/html": [
       "<div>\n",
       "<style scoped>\n",
       "    .dataframe tbody tr th:only-of-type {\n",
       "        vertical-align: middle;\n",
       "    }\n",
       "\n",
       "    .dataframe tbody tr th {\n",
       "        vertical-align: top;\n",
       "    }\n",
       "\n",
       "    .dataframe thead th {\n",
       "        text-align: right;\n",
       "    }\n",
       "</style>\n",
       "<table border=\"1\" class=\"dataframe\">\n",
       "  <thead>\n",
       "    <tr style=\"text-align: right;\">\n",
       "      <th></th>\n",
       "      <th>patient_id</th>\n",
       "      <th>age_at_diagnosis</th>\n",
       "      <th>type_of_breast_surgery</th>\n",
       "      <th>cancer_type</th>\n",
       "      <th>cancer_type_detailed</th>\n",
       "      <th>cellularity</th>\n",
       "      <th>chemotherapy</th>\n",
       "      <th>pam50_+_claudin-low_subtype</th>\n",
       "      <th>cohort</th>\n",
       "      <th>er_status_measured_by_ihc</th>\n",
       "      <th>...</th>\n",
       "      <th>mtap_mut</th>\n",
       "      <th>ppp2cb_mut</th>\n",
       "      <th>smarcd1_mut</th>\n",
       "      <th>nras_mut</th>\n",
       "      <th>ndfip1_mut</th>\n",
       "      <th>hras_mut</th>\n",
       "      <th>prps2_mut</th>\n",
       "      <th>smarcb1_mut</th>\n",
       "      <th>stmn2_mut</th>\n",
       "      <th>siah1_mut</th>\n",
       "    </tr>\n",
       "  </thead>\n",
       "  <tbody>\n",
       "    <tr>\n",
       "      <th>0</th>\n",
       "      <td>0</td>\n",
       "      <td>75.65</td>\n",
       "      <td>MASTECTOMY</td>\n",
       "      <td>Breast Cancer</td>\n",
       "      <td>Breast Invasive Ductal Carcinoma</td>\n",
       "      <td>NaN</td>\n",
       "      <td>0</td>\n",
       "      <td>claudin-low</td>\n",
       "      <td>1.0</td>\n",
       "      <td>Positve</td>\n",
       "      <td>...</td>\n",
       "      <td>0</td>\n",
       "      <td>0</td>\n",
       "      <td>0</td>\n",
       "      <td>0</td>\n",
       "      <td>0</td>\n",
       "      <td>0</td>\n",
       "      <td>0</td>\n",
       "      <td>0</td>\n",
       "      <td>0</td>\n",
       "      <td>0</td>\n",
       "    </tr>\n",
       "    <tr>\n",
       "      <th>1</th>\n",
       "      <td>2</td>\n",
       "      <td>43.19</td>\n",
       "      <td>BREAST CONSERVING</td>\n",
       "      <td>Breast Cancer</td>\n",
       "      <td>Breast Invasive Ductal Carcinoma</td>\n",
       "      <td>High</td>\n",
       "      <td>0</td>\n",
       "      <td>LumA</td>\n",
       "      <td>1.0</td>\n",
       "      <td>Positve</td>\n",
       "      <td>...</td>\n",
       "      <td>0</td>\n",
       "      <td>0</td>\n",
       "      <td>0</td>\n",
       "      <td>0</td>\n",
       "      <td>0</td>\n",
       "      <td>0</td>\n",
       "      <td>0</td>\n",
       "      <td>0</td>\n",
       "      <td>0</td>\n",
       "      <td>0</td>\n",
       "    </tr>\n",
       "    <tr>\n",
       "      <th>2</th>\n",
       "      <td>5</td>\n",
       "      <td>48.87</td>\n",
       "      <td>MASTECTOMY</td>\n",
       "      <td>Breast Cancer</td>\n",
       "      <td>Breast Invasive Ductal Carcinoma</td>\n",
       "      <td>High</td>\n",
       "      <td>1</td>\n",
       "      <td>LumB</td>\n",
       "      <td>1.0</td>\n",
       "      <td>Positve</td>\n",
       "      <td>...</td>\n",
       "      <td>0</td>\n",
       "      <td>0</td>\n",
       "      <td>0</td>\n",
       "      <td>0</td>\n",
       "      <td>0</td>\n",
       "      <td>0</td>\n",
       "      <td>0</td>\n",
       "      <td>0</td>\n",
       "      <td>0</td>\n",
       "      <td>0</td>\n",
       "    </tr>\n",
       "    <tr>\n",
       "      <th>3</th>\n",
       "      <td>6</td>\n",
       "      <td>47.68</td>\n",
       "      <td>MASTECTOMY</td>\n",
       "      <td>Breast Cancer</td>\n",
       "      <td>Breast Mixed Ductal and Lobular Carcinoma</td>\n",
       "      <td>Moderate</td>\n",
       "      <td>1</td>\n",
       "      <td>LumB</td>\n",
       "      <td>1.0</td>\n",
       "      <td>Positve</td>\n",
       "      <td>...</td>\n",
       "      <td>0</td>\n",
       "      <td>0</td>\n",
       "      <td>0</td>\n",
       "      <td>0</td>\n",
       "      <td>0</td>\n",
       "      <td>0</td>\n",
       "      <td>0</td>\n",
       "      <td>0</td>\n",
       "      <td>0</td>\n",
       "      <td>0</td>\n",
       "    </tr>\n",
       "    <tr>\n",
       "      <th>4</th>\n",
       "      <td>8</td>\n",
       "      <td>76.97</td>\n",
       "      <td>MASTECTOMY</td>\n",
       "      <td>Breast Cancer</td>\n",
       "      <td>Breast Mixed Ductal and Lobular Carcinoma</td>\n",
       "      <td>High</td>\n",
       "      <td>1</td>\n",
       "      <td>LumB</td>\n",
       "      <td>1.0</td>\n",
       "      <td>Positve</td>\n",
       "      <td>...</td>\n",
       "      <td>0</td>\n",
       "      <td>0</td>\n",
       "      <td>0</td>\n",
       "      <td>0</td>\n",
       "      <td>0</td>\n",
       "      <td>0</td>\n",
       "      <td>0</td>\n",
       "      <td>0</td>\n",
       "      <td>0</td>\n",
       "      <td>0</td>\n",
       "    </tr>\n",
       "  </tbody>\n",
       "</table>\n",
       "<p>5 rows × 693 columns</p>\n",
       "</div>"
      ],
      "text/plain": [
       "   patient_id  age_at_diagnosis type_of_breast_surgery    cancer_type  \\\n",
       "0           0             75.65             MASTECTOMY  Breast Cancer   \n",
       "1           2             43.19      BREAST CONSERVING  Breast Cancer   \n",
       "2           5             48.87             MASTECTOMY  Breast Cancer   \n",
       "3           6             47.68             MASTECTOMY  Breast Cancer   \n",
       "4           8             76.97             MASTECTOMY  Breast Cancer   \n",
       "\n",
       "                        cancer_type_detailed cellularity  chemotherapy  \\\n",
       "0           Breast Invasive Ductal Carcinoma         NaN             0   \n",
       "1           Breast Invasive Ductal Carcinoma        High             0   \n",
       "2           Breast Invasive Ductal Carcinoma        High             1   \n",
       "3  Breast Mixed Ductal and Lobular Carcinoma    Moderate             1   \n",
       "4  Breast Mixed Ductal and Lobular Carcinoma        High             1   \n",
       "\n",
       "  pam50_+_claudin-low_subtype  cohort er_status_measured_by_ihc  ... mtap_mut  \\\n",
       "0                 claudin-low     1.0                   Positve  ...        0   \n",
       "1                        LumA     1.0                   Positve  ...        0   \n",
       "2                        LumB     1.0                   Positve  ...        0   \n",
       "3                        LumB     1.0                   Positve  ...        0   \n",
       "4                        LumB     1.0                   Positve  ...        0   \n",
       "\n",
       "   ppp2cb_mut smarcd1_mut nras_mut ndfip1_mut  hras_mut prps2_mut smarcb1_mut  \\\n",
       "0           0           0        0          0         0         0           0   \n",
       "1           0           0        0          0         0         0           0   \n",
       "2           0           0        0          0         0         0           0   \n",
       "3           0           0        0          0         0         0           0   \n",
       "4           0           0        0          0         0         0           0   \n",
       "\n",
       "  stmn2_mut  siah1_mut  \n",
       "0         0          0  \n",
       "1         0          0  \n",
       "2         0          0  \n",
       "3         0          0  \n",
       "4         0          0  \n",
       "\n",
       "[5 rows x 693 columns]"
      ]
     },
     "execution_count": 19,
     "metadata": {},
     "output_type": "execute_result"
    }
   ],
   "source": [
    "df.head()"
   ]
  },
  {
   "cell_type": "code",
   "execution_count": 20,
   "id": "5f35f869-5611-4972-b3fb-b021a5237ad4",
   "metadata": {},
   "outputs": [
    {
     "data": {
      "text/plain": [
       "Breast Invasive Ductal Carcinoma             1500\n",
       "Breast Mixed Ductal and Lobular Carcinoma     207\n",
       "Breast Invasive Lobular Carcinoma             142\n",
       "Breast Invasive Mixed Mucinous Carcinoma       22\n",
       "Breast                                         17\n",
       "Metaplastic Breast Cancer                       1\n",
       "Name: cancer_type_detailed, dtype: int64"
      ]
     },
     "execution_count": 20,
     "metadata": {},
     "output_type": "execute_result"
    }
   ],
   "source": [
    "df.cancer_type_detailed.value_counts()"
   ]
  },
  {
   "cell_type": "code",
   "execution_count": 21,
   "id": "1fa49ef7-773c-47d2-8dba-0ce960001c1f",
   "metadata": {},
   "outputs": [
    {
     "data": {
      "text/plain": [
       "Index(['patient_id', 'age_at_diagnosis', 'type_of_breast_surgery',\n",
       "       'cancer_type', 'cancer_type_detailed', 'cellularity', 'chemotherapy',\n",
       "       'pam50_+_claudin-low_subtype', 'cohort', 'er_status_measured_by_ihc',\n",
       "       'er_status', 'neoplasm_histologic_grade',\n",
       "       'her2_status_measured_by_snp6', 'her2_status',\n",
       "       'tumor_other_histologic_subtype', 'hormone_therapy',\n",
       "       'inferred_menopausal_state', 'integrative_cluster',\n",
       "       'primary_tumor_laterality', 'lymph_nodes_examined_positive',\n",
       "       'mutation_count', 'nottingham_prognostic_index', 'oncotree_code',\n",
       "       'overall_survival_months', 'overall_survival', 'pr_status',\n",
       "       'radio_therapy', '3-gene_classifier_subtype', 'tumor_size',\n",
       "       'tumor_stage', 'death_from_cancer', 'brca1', 'brca2', 'palb2', 'pten'],\n",
       "      dtype='object')"
      ]
     },
     "execution_count": 21,
     "metadata": {},
     "output_type": "execute_result"
    }
   ],
   "source": [
    "df.columns[:35]"
   ]
  },
  {
   "cell_type": "code",
   "execution_count": 22,
   "id": "d1f47a2e-0461-460b-8e2a-ea3772e03afa",
   "metadata": {},
   "outputs": [
    {
     "data": {
      "text/plain": [
       "Ductal/NST             1454\n",
       "Mixed                   207\n",
       "Lobular                 142\n",
       "Medullary                25\n",
       "Mucinous                 22\n",
       "Tubular/ cribriform      21\n",
       "Other                    17\n",
       "Metaplastic               1\n",
       "Name: tumor_other_histologic_subtype, dtype: int64"
      ]
     },
     "execution_count": 22,
     "metadata": {},
     "output_type": "execute_result"
    }
   ],
   "source": [
    "df.tumor_other_histologic_subtype.value_counts()"
   ]
  },
  {
   "cell_type": "code",
   "execution_count": 24,
   "id": "52f47b12-6df1-4e67-b47d-5b031872691f",
   "metadata": {},
   "outputs": [
    {
     "data": {
      "text/plain": [
       "<Axes: >"
      ]
     },
     "execution_count": 24,
     "metadata": {},
     "output_type": "execute_result"
    },
    {
     "data": {
      "image/png": "[encoded data removed]",
      "text/plain": [
       "<Figure size 640x480 with 1 Axes>"
      ]
     },
     "metadata": {},
     "output_type": "display_data"
    }
   ],
   "source": [
    "df.mutation_count.hist(bins = 30)"
   ]
  },
  {
   "cell_type": "code",
   "execution_count": 3,
   "id": "2262df97-7433-4337-92e4-0dce200fe12f",
   "metadata": {},
   "outputs": [],
   "source": [
    "death_from_dict = {\n",
    "    'Living':0\n",
    "    ,'Died of Other Causes':0\n",
    "    ,'Died of Disease':1\n",
    "}\n",
    "df.replace(death_from_dict, inplace =True)\n",
    "mrna_df['death_from_cancer'] = df.death_from_cancer"
   ]
  },
  {
   "cell_type": "code",
   "execution_count": 4,
   "id": "4450a13b-3347-4cda-ab9f-d9f280e644e2",
   "metadata": {},
   "outputs": [],
   "source": [
    "mrna_df.death_from_cancer.fillna(0, inplace = True)"
   ]
  },
  {
   "cell_type": "code",
   "execution_count": 5,
   "id": "1cb1f229-cf32-4ca8-8852-167ecb558517",
   "metadata": {},
   "outputs": [],
   "source": [
    "mrna_df = shuffle(mrna_df)"
   ]
  },
  {
   "cell_type": "code",
   "execution_count": 6,
   "id": "ff62872f-0253-4e0b-898b-f40a08d3cdd8",
   "metadata": {},
   "outputs": [],
   "source": [
    "y = mrna_df.pop('death_from_cancer')\n",
    "X = mrna_df"
   ]
  },
  {
   "cell_type": "code",
   "execution_count": 7,
   "id": "fd19272d-1581-44ae-926f-44e5a29e5058",
   "metadata": {},
   "outputs": [],
   "source": [
    "X_train, X_test, y_train, y_test = train_test_split(X, y, test_size=0.15, random_state=1, stratify = y)"
   ]
  },
  {
   "cell_type": "code",
   "execution_count": 26,
   "id": "bff7c5e1-4de8-4ec4-b600-8769d0146f1e",
   "metadata": {},
   "outputs": [],
   "source": [
    "\n",
    "\n",
    "logistic_regression_grid = {'Cs':[2,5,10, 25, 100, 200]\n",
    "                       ,'cv':[4]\n",
    "                       ,'solver':['liblinear']#'lbfgs',\n",
    "                       ,'max_iter' : [50]\n",
    "                       ,'class_weight':['balanced']\n",
    "                       ,'penalty':['l1'] #, 'l2', 'elasticnet'\n",
    "                           }\n",
    "    \n",
    "\n"
   ]
  },
  {
   "cell_type": "code",
   "execution_count": 9,
   "id": "bb20097b-2ba5-45d1-a1cd-190850ea1510",
   "metadata": {},
   "outputs": [],
   "source": [
    "logistic_randomsearch = RandomizedSearchCV(LogisticRegressionCV()\n",
    "                                              ,logistic_regression_grid\n",
    "                                              ,n_jobs=-1\n",
    "                                              ,verbose=False\n",
    "                                              ,scoring='roc_auc')\n",
    "\n"
   ]
  },
  {
   "cell_type": "code",
   "execution_count": null,
   "id": "17e0c1ce-89ca-46f2-b290-a7edf9db58ad",
   "metadata": {},
   "outputs": [],
   "source": [
    "\n",
    "\n",
    "\n"
   ]
  },
  {
   "cell_type": "code",
   "execution_count": 27,
   "id": "417f491a-2d2f-42ab-9edb-2d22b1d5df6d",
   "metadata": {},
   "outputs": [
    {
     "name": "stdout",
     "output_type": "stream",
     "text": [
      "Best GRID logistic Parameters: {'C': 0.03077, 'class_weight': 'balanced', 'penalty': 'l1', 'solver': 'liblinear'}\n",
      "Best GRID logistic Model: LogisticRegression(C=0.03077, class_weight='balanced', penalty='l1',\n",
      "                   solver='liblinear')\n",
      "Best GRID logistic Score: 0.6688\n"
     ]
    }
   ],
   "source": [
    "logistic2_regression_grid = {'C':[0.0305,0.03055, 0.03060, 0.03065, 0.0307, 0.03075, 0.03077]\n",
    "#                        ,'cv':[4]\n",
    "                       ,'solver':['liblinear']#'lbfgs',\n",
    "#                        ,'max_iter' : [50]\n",
    "                       ,'class_weight':['balanced']\n",
    "                       ,'penalty':['l1']} #, 'l2', 'elasticnet'\n",
    "\n",
    "logistic2_gridsearch = GridSearchCV(LogisticRegression()\n",
    "                                          ,logistic2_regression_grid\n",
    "                                          ,n_jobs=-1\n",
    "                                          ,verbose=False\n",
    "                                          ,scoring='roc_auc')\n",
    "\n",
    "\n",
    "logistic2_gridsearch.fit(X_train, y_train)\n",
    "print(f\"Best GRID logistic Parameters: {logistic2_gridsearch.best_params_}\")\n",
    "print(f\"Best GRID logistic Model: {logistic2_gridsearch.best_estimator_}\")\n",
    "print(f\"Best GRID logistic Score: {logistic2_gridsearch.best_score_:.4f}\")"
   ]
  },
  {
   "cell_type": "code",
   "execution_count": 28,
   "id": "0740b6a9-02d0-462c-ae6a-b8892c6bde31",
   "metadata": {},
   "outputs": [
    {
     "name": "stdout",
     "output_type": "stream",
     "text": [
      "Gradient ROC Score = 0.6109\n",
      "logistic gridsesarch ROC Score = 0.6109\n"
     ]
    }
   ],
   "source": [
    "logistic_best_model = logistic2_gridsearch.best_estimator_\n",
    "logistic_y_hats = logistic_best_model.predict(X_test)\n",
    "print(f\"Gradient ROC Score = {roc_auc_score(y_test, logistic_y_hats):.4f}\")\n",
    "\n",
    "\n",
    "\n",
    "\n",
    "logistic2_gridsearch_best_model = logistic2_gridsearch.best_estimator_\n",
    "logistic_y_hats = logistic_best_model.predict(X_test)\n",
    "print(f\"logistic gridsesarch ROC Score = {roc_auc_score(y_test, logistic_y_hats):.4f}\")"
   ]
  },
  {
   "cell_type": "code",
   "execution_count": 29,
   "id": "d6766d3e-db51-4e38-9436-0f0a59bde978",
   "metadata": {},
   "outputs": [
    {
     "name": "stdout",
     "output_type": "stream",
     "text": [
      "              precision    recall  f1-score   support\n",
      "\n",
      "         0.0       0.78      0.53      0.63       193\n",
      "         1.0       0.42      0.69      0.52        93\n",
      "\n",
      "    accuracy                           0.58       286\n",
      "   macro avg       0.60      0.61      0.58       286\n",
      "weighted avg       0.66      0.58      0.60       286\n",
      "\n"
     ]
    }
   ],
   "source": [
    "print(classification_report(y_test, logistic_y_hats))\n",
    "\n"
   ]
  },
  {
   "cell_type": "code",
   "execution_count": 30,
   "id": "a109d95a-e62f-443b-a754-8b3541bd2397",
   "metadata": {},
   "outputs": [
    {
     "name": "stdout",
     "output_type": "stream",
     "text": [
      "0.583916083916084\n"
     ]
    }
   ],
   "source": [
    "print(accuracy_score(y_test, logistic_y_hats))\n",
    "\n"
   ]
  },
  {
   "cell_type": "code",
   "execution_count": 31,
   "id": "e00dbcc1-69f8-439c-8d85-caa02bf0f1bb",
   "metadata": {},
   "outputs": [],
   "source": [
    "# Plotting ROC Curve\n",
    "def roc_curve_grapher(model, X_test ,y_test):\n",
    "    \"\"\"[Makes ROC curve graph given model and data]\n",
    "    Args:\n",
    "        model ([SKlearn classifer model]): [Logistic regression, Random Forrest, Gradient Boosting, etc]]\n",
    "        X_test ([Pandas dataframe]): [Test feature data]\n",
    "        y_test ([numpy array]): [target valudation data]\n",
    "    \"\"\"\n",
    "\n",
    "    yhat = model.predict_proba(X_test)\n",
    "    yhat = yhat[:, 1]\n",
    "    fpr, tpr, thresholds = roc_curve(y_test, yhat)\n",
    "    plt.plot([0,1], [0,1], linestyle='--', label='Random guess')\n",
    "    plt.plot(fpr, tpr, marker='.', label=f'Model')\n",
    "    plt.xlabel('False Positive Rate')\n",
    "    plt.ylabel('True Positive Rate')\n",
    "    plt.suptitle('Model ROC curve', fontsize=20)\n",
    "    plt.legend()\n",
    "    # plt.savefig(\"Logistic Regression_ROC_curve.png\", dpi=200)\n",
    "    plt.show()"
   ]
  },
  {
   "cell_type": "code",
   "execution_count": 32,
   "id": "6d3874a5-d118-4d86-9ab8-b82dfa49e822",
   "metadata": {},
   "outputs": [
    {
     "data": {
      "image/png": "[encoded data removed]",
      "text/plain": [
       "<Figure size 640x480 with 1 Axes>"
      ]
     },
     "metadata": {},
     "output_type": "display_data"
    }
   ],
   "source": [
    "# Plotting ROC Curve\n",
    "\n",
    "logistic2_gridsearch_best_model\n",
    "roc_curve_grapher(logistic2_gridsearch_best_model, X_test, y_test)"
   ]
  },
  {
   "cell_type": "code",
   "execution_count": null,
   "id": "7ae7f7df-0893-4e22-b9af-2dfa2645dfb1",
   "metadata": {},
   "outputs": [],
   "source": []
  }
 ],
 "metadata": {
  "kernelspec": {
   "display_name": "Python 3 (ipykernel)",
   "language": "python",
   "name": "python3"
  },
  "language_info": {
   "codemirror_mode": {
    "name": "ipython",
    "version": 3
   },
   "file_extension": ".py",
   "mimetype": "text/x-python",
   "name": "python",
   "nbconvert_exporter": "python",
   "pygments_lexer": "ipython3",
   "version": "3.10.9"
  }
 },
 "nbformat": 4,
 "nbformat_minor": 5
}
